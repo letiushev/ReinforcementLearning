{
  "nbformat": 4,
  "nbformat_minor": 0,
  "metadata": {
    "colab": {
      "name": "hw2deep.ipynb",
      "provenance": [],
      "collapsed_sections": []
    },
    "kernelspec": {
      "name": "python3",
      "display_name": "Python 3"
    },
    "language_info": {
      "name": "python"
    }
  },
  "cells": [
    {
      "cell_type": "markdown",
      "source": [
        "Case 1:\n",
        "\n",
        "> PjAB = 0.82\n",
        "  Rj = -59\n",
        "  Rn = -16\n",
        "\n",
        "> PjAC = 0.4\n",
        "  Rj = -43\n",
        "  Rn = -27\n",
        "\n",
        "> PjBD1 = 0.38\n",
        "  Rj = -40\n",
        "  Rn = -24\n",
        "\n",
        "> PjBD2 = 0.86\n",
        "  Rj = -59\n",
        "  Rn = -21\n",
        "\n",
        "> PjCD1 = 0.55\n",
        "  Rj = -57\n",
        "  Rn = -30\n",
        "\n",
        "> PjCD2 = 0.95\n",
        "  Rj = -43\n",
        "  Rn = -10\n",
        "\n",
        "Case 2:\n",
        "> PAB = 0.98\n",
        "  PAC = 0.88\n",
        "  PBD1 = 0.9\n",
        "  PBD2 = 0.79\n",
        "  PCD1 = 0.84\n",
        "  PCD2 = 0.94\n",
        "\n",
        "> PjAB = 0.54\n",
        "  Rj = -52\n",
        "  Rn = -4\n",
        "\n",
        "> PjAC = 0.98\n",
        "  Rj = -32\n",
        "  Rn = -14\n",
        "\n",
        "> PjBD1 = 0.54\n",
        "  Rj = -41\n",
        "  Rn = -18\n",
        "\n",
        "> PjBD2 = 0.1\n",
        "  Rj = -54\n",
        "  Rn = -25\n",
        "\n",
        "> PjCD1 = 0.19\n",
        "  Rj = -41\n",
        "  Rn = -16\n",
        "\n",
        "> PjCD2 = 0.75\n",
        "  Rj = -59\n",
        "  Rn = -10\n"
      ],
      "metadata": {
        "id": "llWg13kCXxNo"
      }
    },
    {
      "cell_type": "code",
      "source": [
        "import random\n",
        "from statistics import mean\n",
        "import numpy as np\n",
        "import matplotlib.pyplot as plt"
      ],
      "metadata": {
        "id": "aGAkIxSpavx5"
      },
      "execution_count": null,
      "outputs": []
    },
    {
      "cell_type": "code",
      "source": [
        "def plot_function(VA, VB, VC):\n",
        "  averA = np.zeros(iters)\n",
        "  for i, val in enumerate(VA):\n",
        "    averA = averA + (val - averA)/(i+1)\n",
        "  averB = np.zeros(iters)\n",
        "  for i, val in enumerate(VB):\n",
        "    averB = averB + (val - averB)/(i+1)\n",
        "  averC = np.zeros(iters)\n",
        "  for i, val in enumerate(VC):\n",
        "    averC = averC + (val - averC)/(i+1)\n",
        "  plt.figure(figsize=(12,8))\n",
        "  plt.plot(averA,label=\"A\")\n",
        "  plt.plot(averB,label=\"B\")\n",
        "  plt.plot(averC,label=\"C\")\n",
        "  plt.legend(bbox_to_anchor=(1.3, 0.5))\n",
        "  plt.xlabel(\"Iterations\")\n",
        "  plt.ylabel(\"Average Reward\")\n",
        "  plt.title(\"Average Rewards\")\n",
        "  plt.show()"
      ],
      "metadata": {
        "id": "W6FJedgqEfT9"
      },
      "execution_count": null,
      "outputs": []
    },
    {
      "cell_type": "markdown",
      "source": [
        "## Case 1"
      ],
      "metadata": {
        "id": "KO0InWC5bYgu"
      }
    },
    {
      "cell_type": "code",
      "source": [
        "PjAB = 0.82\n",
        "PnAB = 1-PjAB\n",
        "RjAB = -59 \n",
        "RnAB = -16\n",
        "\n",
        "PjAC = 0.4 \n",
        "PnAC = 1-PjAC\n",
        "RjAC = -43 \n",
        "RnAC = -27\n",
        "\n",
        "PjBD1 = 0.38 \n",
        "PnBD1 = 1-PjBD1\n",
        "RjBD1 = -40 \n",
        "RnBD1 = -24\n",
        "\n",
        "PjBD2 = 0.86 \n",
        "PnBD2 = 1-PjBD2\n",
        "RjBD2 = -59 \n",
        "RnBD2 = -21\n",
        "\n",
        "PjCD1 = 0.55 \n",
        "PnCD1 = 1-PjCD1\n",
        "RjCD1 = -57 \n",
        "RnCD1 = -30\n",
        "\n",
        "PjCD2 = 0.95\n",
        "PnCD2 = 1-PjCD2\n",
        "RjCD2 = -43 \n",
        "RnCD2 = -10"
      ],
      "metadata": {
        "id": "cVHuD8pabWgd"
      },
      "execution_count": null,
      "outputs": []
    },
    {
      "cell_type": "markdown",
      "source": [
        "Every algorithm I coded as a complete decision tree"
      ],
      "metadata": {
        "id": "nrMO0KkvN-Ak"
      }
    },
    {
      "cell_type": "markdown",
      "source": [
        "Monte Carlo"
      ],
      "metadata": {
        "id": "iXT1o2a-eWcE"
      }
    },
    {
      "cell_type": "code",
      "source": [
        "iters = 1000\n",
        "VA = np.zeros(iters)\n",
        "VB = np.zeros(iters)\n",
        "VC = np.zeros(iters)\n",
        "for i in range(999):\n",
        "  dir = random.choice([1,2])                              # A -> B/C?\n",
        "  if dir == 1:                                            # A -> B\n",
        "    prob = random.uniform(0,1)\n",
        "    if prob <= PjAB:\n",
        "      VA[i] = RjAB\n",
        "    else:\n",
        "      VA[i] = RnAB\n",
        "    dir = random.choice([1,2])                            # B -> D1/D2?\n",
        "    if dir == 1:                                          # B -> D1\n",
        "      prob = random.uniform(0,1)\n",
        "      if prob <= PjBD1:\n",
        "        VB[i] = RjBD1\n",
        "      else:\n",
        "        VB[i] = RnBD1\n",
        "    else:                                                 # B -> D2\n",
        "      prob = random.uniform(0,1)\n",
        "      if prob <= PjBD2:\n",
        "        VB[i] = RjBD2\n",
        "      else:\n",
        "        VB[i] = RnBD2\n",
        " \n",
        "  else:                                                   # A -> C\n",
        "    prob = random.uniform(0,1)\n",
        "    if prob <= PjAC:\n",
        "      VA[i] = RjAC\n",
        "    else:\n",
        "      VA[i] = RnAC\n",
        "    dir = random.choice([1,2])                            # C -> D1/D2?\n",
        "    if dir == 1:                                          # C -> D1\n",
        "      prob = random.uniform(0,1)\n",
        "      if prob <= PjCD1:\n",
        "        VC[i] = RjCD1\n",
        "      else:\n",
        "        VC[i] = RnCD1\n",
        "    else:                                                 # C -> D2\n",
        "      prob = random.uniform(0,1)\n",
        "      if prob <= PjCD2:\n",
        "        VC[i] = RjCD2\n",
        "      else:\n",
        "        VC[i] = RnCD2\n",
        "\n",
        "plot_function(VA,VB,VC)"
      ],
      "metadata": {
        "colab": {
          "base_uri": "https://localhost:8080/",
          "height": 513
        },
        "id": "ByTOMqtdo__G",
        "outputId": "629142d7-b33f-43a0-edb7-1f27d05a805a"
      },
      "execution_count": null,
      "outputs": [
        {
          "output_type": "display_data",
          "data": {
            "text/plain": [
              "<Figure size 864x576 with 1 Axes>"
            ],
            "image/png": "[encoded data removed]"
          },
          "metadata": {
            "needs_background": "light"
          }
        }
      ]
    },
    {
      "cell_type": "markdown",
      "source": [
        " Temporal differences"
      ],
      "metadata": {
        "id": "6vKQf6FCfY_J"
      }
    },
    {
      "cell_type": "code",
      "source": [
        "iters = 1000\n",
        "VA = np.random.rand(iters)\n",
        "VB = np.random.rand(iters)\n",
        "VC = np.random.rand(iters)\n",
        "alfa = 1.0\n",
        "gamma = 1.0\n",
        "for i in range(999):\n",
        "  dir = random.choice([1,2])                              # A -> B/C?\n",
        "  if dir == 1:                                            # A -> B\n",
        "    prob = random.uniform(0,1)\n",
        "    if prob <= PjAB:\n",
        "      VA[i] = VA[i]+alfa*(RjAB+gamma*VA[i+1]-VA[i])\n",
        "    else:\n",
        "      VA[i] = VA[i]+alfa*(RnAB+gamma*VA[i+1]-VA[i])\n",
        "    dir = random.choice([1,2])                            # B -> D1/D2?\n",
        "    if dir == 1:                                          # B -> D1\n",
        "      prob = random.uniform(0,1)\n",
        "      if prob <= PjBD1:\n",
        "        VB[i] = VB[i]+alfa*(RjBD1+gamma*VB[i+1]-VB[i])\n",
        "      else:\n",
        "        VB[i] = VB[i]+alfa*(RnBD1+gamma*VB[i+1]-VB[i])\n",
        "    else:                                                 # B -> D2\n",
        "      prob = random.uniform(0,1)\n",
        "      if prob <= PjBD2:\n",
        "        VB[i] = VB[i]+alfa*(RjBD2+gamma*VB[i+1]-VB[i])\n",
        "      else:\n",
        "        VB[i] = VB[i]+alfa*(RnBD2+gamma*VB[i+1]-VB[i])\n",
        " \n",
        "  else:                                                   # A -> C\n",
        "    prob = random.uniform(0,1)\n",
        "    if prob <= PjAC:\n",
        "      VA[i] = VA[i]+alfa*(RjAC+gamma*VA[i+1]-VA[i])\n",
        "    else:\n",
        "      VA[i] = VA[i]+alfa*(RnAC+gamma*VA[i+1]-VA[i])\n",
        "    dir = random.choice([1,2])                            # C -> D1/D2?\n",
        "    if dir == 1:                                          # C -> D1\n",
        "      prob = random.uniform(0,1)\n",
        "      if prob <= PjCD1:\n",
        "        VC[i] = VC[i]+alfa*(RjCD1+gamma*VC[i+1]-VC[i])\n",
        "      else:\n",
        "        VC[i] = VC[i]+alfa*(RnCD1+gamma+VC[i+1]-VC[i])\n",
        "    else:                                                 # C -> D2\n",
        "      prob = random.uniform(0,1)\n",
        "      if prob <= PjCD2:\n",
        "        VC[i] = VC[i]+alfa*(RjCD2+gamma*VC[i+1]-VC[i])\n",
        "      else:\n",
        "        VC[i] = VC[i]+alfa*(RnCD2+gamma*VC[i+1]-VC[1])\n",
        "\n",
        "plot_function(VA,VB,VC)"
      ],
      "metadata": {
        "id": "HG3kC9OZFTPc",
        "colab": {
          "base_uri": "https://localhost:8080/",
          "height": 513
        },
        "outputId": "e34ef683-28c2-4406-e736-f732e1116a6d"
      },
      "execution_count": null,
      "outputs": [
        {
          "output_type": "display_data",
          "data": {
            "text/plain": [
              "<Figure size 864x576 with 1 Axes>"
            ],
            "image/png": "[encoded data removed]"
          },
          "metadata": {
            "needs_background": "light"
          }
        }
      ]
    },
    {
      "cell_type": "markdown",
      "source": [
        "Dynamic programming\n"
      ],
      "metadata": {
        "id": "F0Ey8-8jJvV4"
      }
    },
    {
      "cell_type": "code",
      "source": [
        "iters = 1000\n",
        "VA = np.random.rand(iters)\n",
        "VB = np.random.rand(iters)\n",
        "VC = np.random.rand(iters)\n",
        "gamma = 0.9\n",
        "Epi = 1*0.5\n",
        "for i in range(999):\n",
        "  dir = random.choice([1,2])            # A -> B/C?\n",
        "  if dir == 1:                          # A -> B\n",
        "    prob = random.uniform(0,1)\n",
        "    if prob <= PjAB:\n",
        "      VA[i] = Epi*(RjAB+gamma*VA[i+1])\n",
        "    else:\n",
        "      VA[i] = Epi*(RnAB+gamma*VA[i+1])\n",
        "    dir = random.choice([1,2])         # B -> BD1/BD2\n",
        "    if dir == 1:                       # B -> BD1\n",
        "      prob = random.uniform(0,1)\n",
        "      if prob <= PjBD1:\n",
        "        VB[i] = Epi*(RjBD1+gamma*VB[i+1])\n",
        "      else:\n",
        "        VB[i] = Epi*(RnBD1+gamma*VB[i+1])\n",
        "    else:                              # B -> BD2\n",
        "      prob = random.uniform(0,1)\n",
        "      if prob <= PjBD2:\n",
        "        VB[i] = Epi*(RjBD2+gamma*VB[i+1])\n",
        "      else:\n",
        "        VB[i] = Epi*(RnBD2+gamma*VB[i+1])\n",
        "      \n",
        "  else:                                 # A -> C\n",
        "    prob = random.uniform(0,1)\n",
        "    if prob <= PjAC:\n",
        "      VA[i] = Epi*(RjAC+gamma*VA[i+1])\n",
        "    else:\n",
        "      VA[i] = Epi*(RnAC+gamma*VA[i+1])\n",
        "    dir = random.choice([1,2])          # C -> CD1/CD2\n",
        "    if dir == 1:                        # C -> CD1\n",
        "      prob = random.uniform(0,1)\n",
        "      if prob <= PjCD1:\n",
        "        VC[i] = Epi*(RjCD1+gamma*VC[i+1])\n",
        "      else:\n",
        "        VC[i] = Epi*(RnCD2+gamma*VC[i+1])\n",
        "    else:\n",
        "      prob = random.uniform(0,1)\n",
        "      if prob <= PjCD2:\n",
        "        VC[i] = Epi*(RjCD2+gamma*VC[i+1])\n",
        "      else:\n",
        "        VC[i] = Epi*(RnCD2+gamma*VC[i+1])\n",
        "\n",
        "averA = np.zeros(iters)\n",
        "for i, val in enumerate(VA):\n",
        "  averA = averA + (val - averA)/(i+1)\n",
        "\n",
        "averB = np.zeros(iters)\n",
        "for i, val in enumerate(VB):\n",
        "  averB = averB + (val - averB)/(i+1)\n",
        "\n",
        "averC = np.zeros(iters)\n",
        "for i, val in enumerate(VC):\n",
        "  averC = averC + (val - averC)/(i+1)\n",
        "\n",
        "plot_function(VA,VB,VC)"
      ],
      "metadata": {
        "id": "MMFjYKPrjWHN",
        "colab": {
          "base_uri": "https://localhost:8080/",
          "height": 513
        },
        "outputId": "96bfecc6-e068-423c-ae78-48ff8a8528ef"
      },
      "execution_count": null,
      "outputs": [
        {
          "output_type": "display_data",
          "data": {
            "text/plain": [
              "<Figure size 864x576 with 1 Axes>"
            ],
            "image/png": "[encoded data removed]"
          },
          "metadata": {
            "needs_background": "light"
          }
        }
      ]
    },
    {
      "cell_type": "markdown",
      "source": [
        "## Case 2"
      ],
      "metadata": {
        "id": "WuLStpOP4VTA"
      }
    },
    {
      "cell_type": "code",
      "source": [
        "PAB = 0.98\n",
        "PAC = 0.88\n",
        "PBD1 = 0.9\n",
        "PBD2 = 0.79\n",
        "PCD1 = 0.84\n",
        "PCD2 = 0.94\n",
        "\n",
        "PjAB = 0.54\n",
        "PnAB = 1-PjAB \n",
        "RjAB = -52 \n",
        "RnAB = -4\n",
        "\n",
        "PjAC = 0.98 \n",
        "PnAC = 1-PjAC\n",
        "RjAC = -32 \n",
        "RnAC = -14\n",
        "\n",
        "PjBD1 = 0.54 \n",
        "PnBD1 = 1-PjBD1\n",
        "Rj = -41 \n",
        "Rn = -18\n",
        "\n",
        "PjBD2 = 0.1 \n",
        "PnBD2 = 1-PjBD2\n",
        "RjBD2 = -54 \n",
        "RnBD2 = -25\n",
        "\n",
        "PjCD1 = 0.19 \n",
        "PnCD1 = 1-PjCD1\n",
        "RjCD1 = -41 \n",
        "RnCD1 = -16\n",
        "\n",
        "PjCD2 = 0.75 \n",
        "PnCD2 = 1-PjCD2\n",
        "RjCD2 = -59 \n",
        "RnCD2 = -10"
      ],
      "metadata": {
        "id": "H4bqUAFftwoX"
      },
      "execution_count": null,
      "outputs": []
    },
    {
      "cell_type": "markdown",
      "source": [
        "Monte carlo"
      ],
      "metadata": {
        "id": "SNrWxmfL4SdA"
      }
    },
    {
      "cell_type": "code",
      "source": [
        "iters = 1000\n",
        "VA = np.zeros(iters)\n",
        "VB = np.zeros(iters)\n",
        "VC = np.zeros(iters)\n",
        "for i in range(999):\n",
        "  dir = random.choice([1,2])                              # A -> B/C?\n",
        "  if dir == 1:                                            # A -> B\n",
        "    prob = random.uniform(0,1)\n",
        "    if prob <= PjAB:\n",
        "      VA[i] = PAB*RjAB\n",
        "    else:\n",
        "      VA[i] = PAB*RnAB\n",
        "    dir = random.choice([1,2])                            # B -> D1/D2?\n",
        "    if dir == 1:                                          # B -> D1\n",
        "      prob = random.uniform(0,1)\n",
        "      if prob <= PjBD1:\n",
        "        VB[i] = PBD1*RjBD1\n",
        "      else:\n",
        "        VB[i] = PBD1*RnBD1\n",
        "    else:                                                 # B -> D2\n",
        "      prob = random.uniform(0,1)\n",
        "      if prob <= PjBD2:\n",
        "        VB[i] = PBD2*RjBD2\n",
        "      else:\n",
        "        VB[i] = PBD2*RnBD2\n",
        " \n",
        "  else:                                                   # A -> C\n",
        "    prob = random.uniform(0,1)\n",
        "    if prob <= PjAC:\n",
        "      VA[i] = PAC*RjAC\n",
        "    else:\n",
        "      VA[i] = PAC*RnAC\n",
        "    dir = random.choice([1,2])                            # C -> D1/D2?\n",
        "    if dir == 1:                                          # C -> D1\n",
        "      prob = random.uniform(0,1)\n",
        "      if prob <= PjCD1:\n",
        "        VC[i] = PCD1*RjCD1\n",
        "      else:\n",
        "        VC[i] = PCD1*RnCD1\n",
        "    else:                                                 # C -> D2\n",
        "      prob = random.uniform(0,1)\n",
        "      if prob <= PjCD2:\n",
        "        VC[i] = PCD2*RjCD2\n",
        "      else:\n",
        "        VC[i] = PCD2*RnCD2\n",
        "\n",
        "plot_function(VA,VB,VC)"
      ],
      "metadata": {
        "colab": {
          "base_uri": "https://localhost:8080/",
          "height": 513
        },
        "id": "3EHyUbY995me",
        "outputId": "850df45c-031d-4694-a538-9d1d5bb024a9"
      },
      "execution_count": null,
      "outputs": [
        {
          "output_type": "display_data",
          "data": {
            "text/plain": [
              "<Figure size 864x576 with 1 Axes>"
            ],
            "image/png": "[encoded data removed]"
          },
          "metadata": {
            "needs_background": "light"
          }
        }
      ]
    },
    {
      "cell_type": "markdown",
      "source": [
        "Temporal differences"
      ],
      "metadata": {
        "id": "dXm534caFj-A"
      }
    },
    {
      "cell_type": "code",
      "source": [
        "iters = 1000\n",
        "VA = np.random.rand(iters)\n",
        "VB = np.random.rand(iters)\n",
        "VC = np.random.rand(iters)\n",
        "alfa = 1.0\n",
        "gamma = 1.0\n",
        "for i in range(999):\n",
        "  dir = random.choice([1,2])                              # A -> B/C?\n",
        "  if dir == 1:                                            # A -> B\n",
        "    prob = random.uniform(0,1)\n",
        "    if prob <= PjAB:\n",
        "      VA[i] = PAB*(VA[i]+alfa*(RjAB+gamma*VA[i+1]-VA[i]))\n",
        "    else:\n",
        "      VA[i] = PAB*(VA[i]+alfa*(RnAB+gamma*VA[i+1]-VA[i]))\n",
        "    dir = random.choice([1,2])                            # B -> D1/D2?\n",
        "    if dir == 1:                                          # B -> D1\n",
        "      prob = random.uniform(0,1)\n",
        "      if prob <= PjBD1:\n",
        "        VB[i] = PBD1*(VB[i]+alfa*(RjBD1+gamma*VB[i+1]-VB[i]))\n",
        "      else:\n",
        "        VB[i] = PBD1*(VB[i]+alfa*(RnBD1+gamma*VB[i+1]-VB[i]))\n",
        "    else:                                                 # B -> D2\n",
        "      prob = random.uniform(0,1)\n",
        "      if prob <= PjBD2:\n",
        "        VB[i] = PBD2*(VB[i]+alfa*(RjBD2+gamma*VB[i+1]-VB[i]))\n",
        "      else:\n",
        "        VB[i] = PBD2*(VB[i]+alfa*(RnBD2+gamma*VB[i+1]-VB[i]))\n",
        " \n",
        "  else:                                                   # A -> C\n",
        "    prob = random.uniform(0,1)\n",
        "    if prob <= PjAC:\n",
        "      VA[i] = PAB*(VA[i]+alfa*(RjAC+gamma*VA[i+1]-VA[i]))\n",
        "    else:\n",
        "      VA[i] = PAB*(VA[i]+alfa*(RnAC+gamma*VA[i+1]-VA[i]))\n",
        "    dir = random.choice([1,2])                            # C -> D1/D2?\n",
        "    if dir == 1:                                          # C -> D1\n",
        "      prob = random.uniform(0,1)\n",
        "      if prob <= PjCD1:\n",
        "        VC[i] = PCD1*(VC[i]+alfa*(RjCD1+gamma*VC[i+1]-VC[i]))\n",
        "      else:\n",
        "        VC[i] = PCD1*(VC[i]+alfa*(RnCD1+gamma+VC[i+1]-VC[i]))\n",
        "    else:                                                 # C -> D2\n",
        "      prob = random.uniform(0,1)\n",
        "      if prob <= PjCD2:\n",
        "        VC[i] = PCD2*(VC[i]+alfa*(RjCD2+gamma*VC[i+1]-VC[i]))\n",
        "      else:\n",
        "        VC[i] = PCD2*(VC[i]+alfa*(RnCD2+gamma*VC[i+1]-VC[1]))\n",
        "\n",
        "plot_function(VA,VB,VC)"
      ],
      "metadata": {
        "colab": {
          "base_uri": "https://localhost:8080/",
          "height": 513
        },
        "id": "W2TGviV7BZht",
        "outputId": "243c9816-7b0b-4df4-ad78-4959b9acb501"
      },
      "execution_count": null,
      "outputs": [
        {
          "output_type": "display_data",
          "data": {
            "text/plain": [
              "<Figure size 864x576 with 1 Axes>"
            ],
            "image/png": "[encoded data removed]"
          },
          "metadata": {
            "needs_background": "light"
          }
        }
      ]
    },
    {
      "cell_type": "code",
      "source": [
        "iters = 1000\n",
        "VA = np.random.rand(iters)\n",
        "VB = np.random.rand(iters)\n",
        "VC = np.random.rand(iters)\n",
        "gamma = 0.9\n",
        "EpiAB = PAB*0.5\n",
        "EpiBD1 = PBD1*0.5\n",
        "EpiBD2 = PBD2*0.5\n",
        "EpiAC = PAC*0.5\n",
        "EpiCD1 = PAB*0.5\n",
        "EpiCD2 = PAB*0.5\n",
        "for i in range(999):\n",
        "  dir = random.choice([1,2])            # A -> B/C?\n",
        "  if dir == 1:                          # A -> B\n",
        "    prob = random.uniform(0,1)\n",
        "    if prob <= PjAB:\n",
        "      VA[i] = EpiAB*(RjAB+gamma*VA[i+1])\n",
        "    else:\n",
        "      VA[i] = EpiAB*(RnAB+gamma*VA[i+1])\n",
        "    dir = random.choice([1,2])         # B -> BD1/BD2\n",
        "    if dir == 1:                       # B -> BD1\n",
        "      prob = random.uniform(0,1)\n",
        "      if prob <= PjBD1:\n",
        "        VB[i] = EpiBD1*(RjBD1+gamma*VB[i+1])\n",
        "      else:\n",
        "        VB[i] = EpiBD1*(RnBD1+gamma*VB[i+1])\n",
        "    else:                              # B -> BD2\n",
        "      prob = random.uniform(0,1)\n",
        "      if prob <= PjBD2:\n",
        "        VB[i] = EpiBD2*(RjBD2+gamma*VB[i+1])\n",
        "      else:\n",
        "        VB[i] = EpiBD2*(RnBD2+gamma*VB[i+1])\n",
        "      \n",
        "  else:                                 # A -> C\n",
        "    prob = random.uniform(0,1)\n",
        "    if prob <= PjAC:\n",
        "      VA[i] = EpiAC*(RjAC+gamma*VA[i+1])\n",
        "    else:\n",
        "      VA[i] = EpiAC*(RnAC+gamma*VA[i+1])\n",
        "    dir = random.choice([1,2])          # C -> CD1/CD2\n",
        "    if dir == 1:                        # C -> CD1\n",
        "      prob = random.uniform(0,1)\n",
        "      if prob <= PjCD1:\n",
        "        VC[i] = EpiCD1*(RjCD1+gamma*VC[i+1])\n",
        "      else:\n",
        "        VC[i] = EpiCD1*(RnCD2+gamma*VC[i+1])\n",
        "    else:\n",
        "      prob = random.uniform(0,1)\n",
        "      if prob <= PjCD2:\n",
        "        VC[i] = EpiCD2*(RjCD2+gamma*VC[i+1])\n",
        "      else:\n",
        "        VC[i] = EpiCD2*(RnCD2+gamma*VC[i+1])\n",
        "\n",
        "averA = np.zeros(iters)\n",
        "for i, val in enumerate(VA):\n",
        "  averA = averA + (val - averA)/(i+1)\n",
        "\n",
        "averB = np.zeros(iters)\n",
        "for i, val in enumerate(VB):\n",
        "  averB = averB + (val - averB)/(i+1)\n",
        "\n",
        "averC = np.zeros(iters)\n",
        "for i, val in enumerate(VC):\n",
        "  averC = averC + (val - averC)/(i+1)\n",
        "\n",
        "plot_function(VA,VB,VC)"
      ],
      "metadata": {
        "colab": {
          "base_uri": "https://localhost:8080/",
          "height": 513
        },
        "id": "C7R_19jSHXxF",
        "outputId": "736bdb6f-f855-4a89-b288-67c4fe4a5c41"
      },
      "execution_count": null,
      "outputs": [
        {
          "output_type": "display_data",
          "data": {
            "text/plain": [
              "<Figure size 864x576 with 1 Axes>"
            ],
            "image/png": "[encoded data removed]"
          },
          "metadata": {
            "needs_background": "light"
          }
        }
      ]
    },
    {
      "cell_type": "markdown",
      "source": [
        "All of algorithms have different performance because they all do searching and storing results in a different way.\n",
        "For these cases the Monte Carlo was the fastest and powerful one because it doesn't know the probability of actions and states, it learns from experience by averaging the rewards after running the episodes.\n",
        "Temporal differences uses single step learning and corrects model, based on current step. The Dynamic Programming is quite similar to TD but it knows the expected probability.\n",
        "MC and TD are showing quite the similar results, but in the Case 2 we can see that model - based algorithms are permorming better than non-model based MC: the results of TD and DP are more close to 0 than MC, this is because in this case we had the derouting probability."
      ],
      "metadata": {
        "id": "K5zzEptGJ6XQ"
      }
    }
  ]
}