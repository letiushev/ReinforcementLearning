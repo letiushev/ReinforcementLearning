{
  "nbformat": 4,
  "nbformat_minor": 0,
  "metadata": {
    "colab": {
      "name": "hw1Deep",
      "provenance": [],
      "collapsed_sections": []
    },
    "kernelspec": {
      "name": "python3",
      "display_name": "Python 3"
    },
    "language_info": {
      "name": "python"
    }
  },
  "cells": [
    {
      "cell_type": "markdown",
      "source": [
        "Case 1:\n",
        "\n",
        ">   Bridge A:\n",
        "    P(jam): 0.09, Reward(jam): -55, Reward(normal): -8, \n",
        ">   Bridge B: \n",
        "    P(jam): 0.04, Reward(jam): -35, Reward(normal): -6,\n",
        "    \n",
        "Case 2:\n",
        "\n",
        ">   Bridge A:\n",
        "    P(jam): 0.83, Reward(jam): -46, Reward(normal): -2,\n",
        ">   Bridge B:\n",
        "    P(jam): 0.78, Reward(jam): -37, Reward(normal): -27,\n"
      ],
      "metadata": {
        "id": "nbNMka7v3qvk"
      }
    },
    {
      "cell_type": "code",
      "source": [
        "import random\n",
        "import matplotlib.pyplot as plt\n",
        "from statistics import mean\n",
        "import numpy as np"
      ],
      "metadata": {
        "id": "HF5ZYOiRANqx"
      },
      "execution_count": 163,
      "outputs": []
    },
    {
      "cell_type": "code",
      "source": [
        "def random_choice_two_bridges(APj,ARj,APn,ARn,BPj,BRj,BPn,BRn):\n",
        "  result = []\n",
        "  for i in range(1000):  \n",
        "    bridge = random.choice([1,2])    # choose a bridge\n",
        "    if bridge == 1:                  # bridge A case \n",
        "      prob = random.uniform(0, 1)    # choose aprobability to face a jam\n",
        "      if prob <= APj: \n",
        "        result.append(APj*ARj)       # jam reward\n",
        "      else:\n",
        "        result.append(APn*ARn)       # normal reward\n",
        "    else:                            # bridge B case\n",
        "      prob = random.uniform(0, 1)    # choose aprobability to face a jam\n",
        "      if prob <= BPj:\n",
        "        result.append(BPj*BRj)       # jam reward\n",
        "      else:\n",
        "        result.append(BPn*BRn)       # normal reward\n",
        "  return result"
      ],
      "metadata": {
        "id": "LcstEvgmjrlx"
      },
      "execution_count": 164,
      "outputs": []
    },
    {
      "cell_type": "code",
      "source": [
        "def random_one_bridge(Pj,Rj,Pn,Rn):\n",
        "  result = []\n",
        "  for i in range(1000):\n",
        "    prob = random.uniform(0, 1) # choose aprobability to face a jam\n",
        "    if prob <= Pj:\n",
        "      result.append(Pj*Rj)      # jam reward\n",
        "    else:\n",
        "      result.append(Pn*Rn)      # normal reward\n",
        "  return result"
      ],
      "metadata": {
        "id": "WVU1kBAvkKjU"
      },
      "execution_count": 165,
      "outputs": []
    },
    {
      "cell_type": "markdown",
      "source": [
        "this function tries different combinations btw exploration and exploitation in a range of 0 and 1 and calculates a reward only in case if bridge B satisfies the greedy algorithm"
      ],
      "metadata": {
        "id": "K0-pLrbsPnw4"
      }
    },
    {
      "cell_type": "code",
      "source": [
        "def exploration_exploitation_strategy(APj,ARj,APn,ARn,BPj,BRj,BPn,BRn):\n",
        "  combinations = [0, 0.25, 0.5, 0.75, 1]\n",
        "  for i in combinations:                  # iterate over probabilities of choosing random action\n",
        "    if i == 0:\n",
        "      result1 = core_func(i,APj,ARj,APn,ARn,BPj,BRj,BPn,BRn)\n",
        "    if i == 0.25:\n",
        "      result2 = core_func(i,APj,ARj,APn,ARn,BPj,BRj,BPn,BRn)\n",
        "    if i == 0.5:\n",
        "      result3 = core_func(i,APj,ARj,APn,ARn,BPj,BRj,BPn,BRn)\n",
        "    if i == 0.75:\n",
        "      result4 = core_func(i,APj,ARj,APn,ARn,BPj,BRj,BPn,BRn)\n",
        "    if i == 1:\n",
        "      result5 = core_func(i,APj,ARj,APn,ARn,BPj,BRj,BPn,BRn)\n",
        "      \n",
        "  iters = 1000\n",
        "  aver1 = np.zeros(iters)\n",
        "  aver2 = np.zeros(iters)\n",
        "  aver3 = np.zeros(iters)\n",
        "  aver4 = np.zeros(iters)\n",
        "  aver5 = np.zeros(iters)\n",
        "  for i, val in enumerate(result1):\n",
        "    aver1 = aver1 + (val - aver1)/(i+1)\n",
        "  for i, val in enumerate(result2):\n",
        "    aver2 = aver2 + (val - aver2)/(i+1)\n",
        "  for i, val in enumerate(result3):\n",
        "    aver3 = aver3 + (val - aver3)/(i+1)\n",
        "  for i, val in enumerate(result4):\n",
        "    aver4 = aver4 + (val - aver4)/(i+1)\n",
        "  for i, val in enumerate(result5):\n",
        "    aver5 = aver5 + (val - aver5)/(i+1)\n",
        "  plt.figure(figsize=(12,8))\n",
        "  plt.plot(aver1,label=\"0%\")\n",
        "  plt.plot(aver2,label=\"25%\")\n",
        "  plt.plot(aver3,label=\"50%\")\n",
        "  plt.plot(aver4,label=\"75%\")\n",
        "  plt.plot(aver5,label=\"100%\")\n",
        "  plt.legend(bbox_to_anchor=(1.3, 0.5))\n",
        "  plt.xlabel(\"Iterations\")\n",
        "  plt.ylabel(\"Average Reward\")\n",
        "  plt.title(\"Average Rewards after 1000 Episodes\")\n",
        "  plt.show() "
      ],
      "metadata": {
        "id": "9855tbAvnlgD"
      },
      "execution_count": 166,
      "outputs": []
    },
    {
      "cell_type": "code",
      "source": [
        "def core_func(i,APj,ARj,APn,ARn,BPj,BRj,BPn,BRn):\n",
        "  resultOpt = []\n",
        "  for j in range(1000):\n",
        "    prob = random.uniform(0, 1)         # probability that we choose random action\n",
        "    if prob <= i:                       # if we choose random action\n",
        "      bridge = random.choice([1,2])     # choose a bridge\n",
        "      if bridge == 1:                   # bridge A case \n",
        "        probB = random.uniform(0, 1)    # choose aprobability to face a jam\n",
        "        if probB <= APj:\n",
        "          resultOpt.append(APj*ARj)     # jam reward\n",
        "        else:\n",
        "          resultOpt.append(APn*ARn)     # normal reward\n",
        "      else:                             # bridge B case\n",
        "        probB = random.uniform(0, 1)    # choose aprobability to face a jam\n",
        "        if probB <= BPj:\n",
        "          resultOpt.append(BPj*BRj)     # jam reward\n",
        "        else:\n",
        "          resultOpt.append(BPn*BRn)     # normal reward\n",
        "    else:                               # if we choose greeedy algorithm\n",
        "      probB = random.uniform(0, 1)      # choose aprobability to face a jam\n",
        "      if probB <= BPj:\n",
        "        resultOpt.append(BPj*BRj)       # jam reward\n",
        "      else:\n",
        "        resultOpt.append(BPn*BRn)       # normal reward\n",
        "  print(\"If the agent chooses a random action \",i*100,\"% of the times it will have the average reward:\",mean(resultOpt))\n",
        "  return resultOpt"
      ],
      "metadata": {
        "id": "ClCQm3-c0YGE"
      },
      "execution_count": 167,
      "outputs": []
    },
    {
      "cell_type": "markdown",
      "source": [
        "## Case 1"
      ],
      "metadata": {
        "id": "Nhk6Fx9yAs3X"
      }
    },
    {
      "cell_type": "code",
      "source": [
        "APj = 0.09\n",
        "ARj = -55\n",
        "APn = 1 - APj\n",
        "ARn = -8\n",
        "\n",
        "BPj = 0.04\n",
        "BRj = -35\n",
        "BPn = 1 - BPj\n",
        "BRn = -6"
      ],
      "metadata": {
        "id": "PZpn9-Hl3sQx"
      },
      "execution_count": 168,
      "outputs": []
    },
    {
      "cell_type": "markdown",
      "source": [
        "##Exploration"
      ],
      "metadata": {
        "id": "FmRHmYInCuLT"
      }
    },
    {
      "cell_type": "markdown",
      "source": [
        "First, randomly choose between two bridges and study the avg reward"
      ],
      "metadata": {
        "id": "R4Psy4cUJBOr"
      }
    },
    {
      "cell_type": "code",
      "source": [
        "Random1 = mean(random_choice_two_bridges(APj,ARj,APn,ARn,BPj,BRj,BPn,BRn))"
      ],
      "metadata": {
        "id": "StqDfBPz_PYe"
      },
      "execution_count": 169,
      "outputs": []
    },
    {
      "cell_type": "code",
      "source": [
        "print(\"the avg result for random choice only is :\", Random1)"
      ],
      "metadata": {
        "colab": {
          "base_uri": "https://localhost:8080/"
        },
        "id": "E8FTqyraBK8a",
        "outputId": "46a7e0ba-3133-4993-f457-dec2c8d6088c"
      },
      "execution_count": 170,
      "outputs": [
        {
          "output_type": "stream",
          "name": "stdout",
          "text": [
            "the avg result for random choice only is : -6.37335\n"
          ]
        }
      ]
    },
    {
      "cell_type": "markdown",
      "source": [
        "let's suppose we want to choose the bridge with the highest reward of 1000 episodes, calculate the avg reward for each bridge in case if we choose only one of them for running 1000 loop"
      ],
      "metadata": {
        "id": "nsIzpkPWEugL"
      }
    },
    {
      "cell_type": "code",
      "source": [
        "ResultBridgeA = mean(random_one_bridge(APj,ARj,APn,ARn))"
      ],
      "metadata": {
        "id": "u_L0cySWDRaA"
      },
      "execution_count": 171,
      "outputs": []
    },
    {
      "cell_type": "code",
      "source": [
        "print(\"the result for bridge A only is:\", ResultBridgeA)"
      ],
      "metadata": {
        "colab": {
          "base_uri": "https://localhost:8080/"
        },
        "id": "TN0vv4GPGEQN",
        "outputId": "2374d9c7-ebc3-4a2c-a1fa-6e3a5a745171"
      },
      "execution_count": 172,
      "outputs": [
        {
          "output_type": "stream",
          "name": "stdout",
          "text": [
            "the result for bridge A only is: -7.07962\n"
          ]
        }
      ]
    },
    {
      "cell_type": "code",
      "source": [
        "ResultBridgeB = mean(random_one_bridge(BPj,BRj,BPn,BRn))"
      ],
      "metadata": {
        "id": "wznFiejFGGNx"
      },
      "execution_count": 173,
      "outputs": []
    },
    {
      "cell_type": "code",
      "source": [
        "print(\"the result for bridge B only is:\",ResultBridgeB)"
      ],
      "metadata": {
        "colab": {
          "base_uri": "https://localhost:8080/"
        },
        "id": "D4oXgGVuGRq5",
        "outputId": "0e7219c3-e0d4-4a5e-f601-a6a65ba1b220"
      },
      "execution_count": 174,
      "outputs": [
        {
          "output_type": "stream",
          "name": "stdout",
          "text": [
            "the result for bridge B only is: -5.55508\n"
          ]
        }
      ]
    },
    {
      "cell_type": "markdown",
      "source": [
        "It seems like the best result we have in case if we choose only bridge B every time"
      ],
      "metadata": {
        "id": "vGP5I8ZoGYsT"
      }
    },
    {
      "cell_type": "markdown",
      "source": [
        "#Exploitation"
      ],
      "metadata": {
        "id": "O3godYmfINnR"
      }
    },
    {
      "cell_type": "markdown",
      "source": [
        "Now lets decide to choose the bridge with the highest expected reward, based on the following formula: E = P(jam) * Reward(jam) + P(normal) * Reward(normal) "
      ],
      "metadata": {
        "id": "EM9yzvCzG5qb"
      }
    },
    {
      "cell_type": "code",
      "source": [
        "EA = APj*ARj + APn*ARn\n",
        "EB = BPj*BRj + BPn*BRn\n",
        "Emax = max(EA,EB)"
      ],
      "metadata": {
        "id": "0edzEn3OHtS3"
      },
      "execution_count": 175,
      "outputs": []
    },
    {
      "cell_type": "code",
      "source": [
        "resultE = []\n",
        "if Emax == EA:\n",
        "  resultE = random_one_bridge(APj,ARj,APn,ARn)\n",
        "  print(\"the highest expected reward is on bridge A:\", Emax)\n",
        "if Emax == EB:\n",
        "  resultE = random_one_bridge(BPj,BRj,BPn,BRn)\n",
        "  print(\"the highest expected reward is on bridge B:\", Emax)\n",
        "print(\"the avg reward is:\",mean(resultE))"
      ],
      "metadata": {
        "colab": {
          "base_uri": "https://localhost:8080/"
        },
        "id": "Ie1UxE32K61M",
        "outputId": "670a1679-6390-473b-c752-2aabcdd3ef58"
      },
      "execution_count": 176,
      "outputs": [
        {
          "output_type": "stream",
          "name": "stdout",
          "text": [
            "the highest expected reward is on bridge B: -7.16\n",
            "the avg reward is: -5.55072\n"
          ]
        }
      ]
    },
    {
      "cell_type": "markdown",
      "source": [
        "#Exploration-exploitation strategy"
      ],
      "metadata": {
        "id": "vwF4yRYkSj5a"
      }
    },
    {
      "cell_type": "markdown",
      "source": [
        "Try different combitations btw exploration and exploitation in order to find optimal solution. Try different combinations btw exploration and exploitation in a range of 0 and 1 and calculate reward."
      ],
      "metadata": {
        "id": "t03qa2EvTA1U"
      }
    },
    {
      "cell_type": "code",
      "source": [
        "exploration_exploitation_strategy(APj,ARj,APn,ARn,BPj,BRj,BPn,BRn)"
      ],
      "metadata": {
        "colab": {
          "base_uri": "https://localhost:8080/",
          "height": 600
        },
        "id": "rdOZbBZCn9ws",
        "outputId": "0ae425e0-2987-47cb-a62d-d89aa7953943"
      },
      "execution_count": 177,
      "outputs": [
        {
          "output_type": "stream",
          "name": "stdout",
          "text": [
            "If the agent chooses a random action  0 % of the times it will have the average reward: -5.57252\n",
            "If the agent chooses a random action  25.0 % of the times it will have the average reward: -5.7997499999999995\n",
            "If the agent chooses a random action  50.0 % of the times it will have the average reward: -5.93271\n",
            "If the agent chooses a random action  75.0 % of the times it will have the average reward: -6.14412\n",
            "If the agent chooses a random action  100 % of the times it will have the average reward: -6.33748\n"
          ]
        },
        {
          "output_type": "display_data",
          "data": {
            "image/png": "[encoded data removed]",
            "text/plain": [
              "<Figure size 864x576 with 1 Axes>"
            ]
          },
          "metadata": {
            "needs_background": "light"
          }
        }
      ]
    },
    {
      "cell_type": "markdown",
      "source": [
        "That means in case 1 if we choose bridge B all times we will have the highest reward"
      ],
      "metadata": {
        "id": "TIOuefzNsrbE"
      }
    },
    {
      "cell_type": "markdown",
      "source": [
        "##Case 2"
      ],
      "metadata": {
        "id": "F77AI_-rRZ73"
      }
    },
    {
      "cell_type": "code",
      "source": [
        "APj = 0.83\n",
        "ARj = -46\n",
        "APn = 1 - APj\n",
        "ARn = -2\n",
        "\n",
        "BPj = 0.78\n",
        "BRj = -37\n",
        "BPn = 1 - BPj\n",
        "BRn = -27"
      ],
      "metadata": {
        "id": "XsVWiR1oRaO3"
      },
      "execution_count": 178,
      "outputs": []
    },
    {
      "cell_type": "markdown",
      "source": [
        "##Exploration"
      ],
      "metadata": {
        "id": "RX2RBIlxqbqX"
      }
    },
    {
      "cell_type": "markdown",
      "source": [
        "First, randomly choose between two bridges and study the avg reward"
      ],
      "metadata": {
        "id": "9c25M_wtqfBw"
      }
    },
    {
      "cell_type": "code",
      "source": [
        "Random2 = mean(random_choice_two_bridges(APj,ARj,APn,ARn,BPj,BRj,BPn,BRn))"
      ],
      "metadata": {
        "id": "9nLuo3zMhgy5"
      },
      "execution_count": 179,
      "outputs": []
    },
    {
      "cell_type": "code",
      "source": [
        "print(\"the avg result for random choice only is :\", Random2)"
      ],
      "metadata": {
        "colab": {
          "base_uri": "https://localhost:8080/"
        },
        "id": "KuGzFObOiT6E",
        "outputId": "4c3cb101-9198-44ba-8eb1-631f36db6dc8"
      },
      "execution_count": 180,
      "outputs": [
        {
          "output_type": "stream",
          "name": "stdout",
          "text": [
            "the avg result for random choice only is : -27.69016\n"
          ]
        }
      ]
    },
    {
      "cell_type": "markdown",
      "source": [
        "let's suppose we want to choose the bridge with the highest reward of 1000 episodes, calculate the avg reward for each bridge in case if we choose only one of them for running 1000 loop"
      ],
      "metadata": {
        "id": "OSUKkqDlqjG6"
      }
    },
    {
      "cell_type": "code",
      "source": [
        "ResultBridgeA = mean(random_one_bridge(APj,ARj,APn,ARn))"
      ],
      "metadata": {
        "id": "WQzwOE99qjYn"
      },
      "execution_count": 181,
      "outputs": []
    },
    {
      "cell_type": "code",
      "source": [
        "print(\"the result for bridge A only is:\", ResultBridgeA)"
      ],
      "metadata": {
        "colab": {
          "base_uri": "https://localhost:8080/"
        },
        "id": "-iJr6fJ_qpKk",
        "outputId": "fd723d52-2fcd-49d3-fc7e-ea828ab9623b"
      },
      "execution_count": 182,
      "outputs": [
        {
          "output_type": "stream",
          "name": "stdout",
          "text": [
            "the result for bridge A only is: -31.3688\n"
          ]
        }
      ]
    },
    {
      "cell_type": "code",
      "source": [
        "ResultBridgeB = mean(random_one_bridge(BPj,BRj,BPn,BRn))"
      ],
      "metadata": {
        "id": "IIaSaMCzqrG_"
      },
      "execution_count": 183,
      "outputs": []
    },
    {
      "cell_type": "code",
      "source": [
        "print(\"the result for bridge B only is:\",ResultBridgeB)"
      ],
      "metadata": {
        "colab": {
          "base_uri": "https://localhost:8080/"
        },
        "id": "AHorqxBpqtb_",
        "outputId": "3158883f-b823-44e4-9a33-5bd6e1778a0b"
      },
      "execution_count": 184,
      "outputs": [
        {
          "output_type": "stream",
          "name": "stdout",
          "text": [
            "the result for bridge B only is: -24.29892\n"
          ]
        }
      ]
    },
    {
      "cell_type": "markdown",
      "source": [
        "It seems like the best result we have in case if we choose only bridge B every time"
      ],
      "metadata": {
        "id": "_85PVMDxq3xq"
      }
    },
    {
      "cell_type": "markdown",
      "source": [
        "#Exploitation"
      ],
      "metadata": {
        "id": "gOB_rQS2sNud"
      }
    },
    {
      "cell_type": "markdown",
      "source": [
        "Now lets decide to choose the bridge with the highest reward, based on the following formula: E = P(jam) * Reward(jam) + P(normal) * Reward(normal) "
      ],
      "metadata": {
        "id": "dCkx9P39sQnN"
      }
    },
    {
      "cell_type": "code",
      "source": [
        "EA = APj*ARj + APn*ARn\n",
        "EB = BPj*BRj + BPn*BRn\n",
        "Emax = max(EA,EB)"
      ],
      "metadata": {
        "id": "7zNpBNnYq4Ec"
      },
      "execution_count": 185,
      "outputs": []
    },
    {
      "cell_type": "code",
      "source": [
        "resultE = []\n",
        "if Emax == EA:\n",
        "  resultE = random_one_bridge(APj,ARj,APn,ARn)\n",
        "  print(\"the highest reward is on bridge A:\", Emax)\n",
        "if Emax == EB:\n",
        "  resultE = random_one_bridge(BPj,BRj,BPn,BRn)\n",
        "  print(\"the highest reward is on bridge B:\", Emax)\n",
        "print(\"the avg reward is:\",mean(resultE))"
      ],
      "metadata": {
        "colab": {
          "base_uri": "https://localhost:8080/"
        },
        "id": "PVaToxXssTMv",
        "outputId": "094f845a-e657-494d-9da9-f66494e04e24"
      },
      "execution_count": 186,
      "outputs": [
        {
          "output_type": "stream",
          "name": "stdout",
          "text": [
            "the highest reward is on bridge B: -34.8\n",
            "the avg reward is: -24.18432\n"
          ]
        }
      ]
    },
    {
      "cell_type": "markdown",
      "source": [
        "##Exploration-exploitation strategy"
      ],
      "metadata": {
        "id": "ALPCm-X9scPc"
      }
    },
    {
      "cell_type": "markdown",
      "source": [
        "Try different combitations btw exploration and exploitation in order to find optimal solution. Try different combinations btw exploration and exploitation in a range of 0 and 1 and calculate reward."
      ],
      "metadata": {
        "id": "251DI9H3se0e"
      }
    },
    {
      "cell_type": "code",
      "source": [
        "exploration_exploitation_strategy(APj,ARj,APn,ARn,BPj,BRj,BPn,BRn)"
      ],
      "metadata": {
        "colab": {
          "base_uri": "https://localhost:8080/",
          "height": 600
        },
        "id": "WGImUIbGsXLs",
        "outputId": "4c47b89e-8224-4085-9dee-db50d1c49fb2"
      },
      "execution_count": 187,
      "outputs": [
        {
          "output_type": "stream",
          "name": "stdout",
          "text": [
            "If the agent chooses a random action  0 % of the times it will have the average reward: -24.321839999999998\n",
            "If the agent chooses a random action  25.0 % of the times it will have the average reward: -25.22244\n",
            "If the agent chooses a random action  50.0 % of the times it will have the average reward: -25.437359999999998\n",
            "If the agent chooses a random action  75.0 % of the times it will have the average reward: -27.4738\n",
            "If the agent chooses a random action  100 % of the times it will have the average reward: -27.916159999999998\n"
          ]
        },
        {
          "output_type": "display_data",
          "data": {
            "image/png": "[encoded data removed]",
            "text/plain": [
              "<Figure size 864x576 with 1 Axes>"
            ]
          },
          "metadata": {
            "needs_background": "light"
          }
        }
      ]
    },
    {
      "cell_type": "markdown",
      "source": [
        "That means in case 2 if we choose bridge B all times we will have the highest reward"
      ],
      "metadata": {
        "id": "t6RZ1b-euFxq"
      }
    }
  ]
}